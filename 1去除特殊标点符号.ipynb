{
 "cells": [
  {
   "cell_type": "markdown",
   "metadata": {},
   "source": [
    "# 数据清洗\n",
    "## 去除无用的标点符号，只留下(，)和(。)\n",
    "这部分是用python2.7写的。对data中所有文件都进行了处理。"
   ]
  },
  {
   "cell_type": "code",
   "execution_count": 31,
   "metadata": {},
   "outputs": [],
   "source": [
    "import re\n",
    "import os\n",
    "\n",
    "'''1. 删除多个重复的标点符号，只保留一个\n",
    "'''\n",
    "patterns = [\n",
    "    (r\"[\\s|\\d+.\\d+|\\-\\~]|[a-z;]|\\&|\\w|\\^|\\*|\\((.+)\\)\\/| |\\～|\\g/\", ''),\n",
    "    (r\"⊙\",' '),\n",
    "    (r\",\",' '),\n",
    "    (r\"，+\",' '),\n",
    "    (r\"、\",' '),\n",
    "    (r\"\\(\\)\",' '),\n",
    "    (r\"\\(\",' '),\n",
    "    (r\"\\)\",' '),\n",
    "    (r\"˙\",' '),\n",
    "    (r\"。+\",' '),\n",
    "    (r\"！+\",' '),\n",
    "    (r'!',' '),\n",
    "    (r\"？+\",' '),\n",
    "    (r\"\\?+\",' '),\n",
    "    (r\" +\",'。'),\n",
    "]\n",
    "def clean(filepath, savepath, extension):\n",
    "    result = [file for file in os.listdir(filepath) if file.endswith(extension)]\n",
    "    for filename in result:\n",
    "        f_out = open(savepath + '/'+filename[:-4]+'_clean'+extension, 'w')\n",
    "        with open(filepath+'/'+filename, 'r') as f:\n",
    "            for line in f:\n",
    "                line = line.strip().replace('\\n','')\n",
    "                s = re.sub(patterns[0][0],patterns[0][1], line)\n",
    "                for pattern, rep in patterns[1:]:\n",
    "                    s = re.sub(pattern,rep, s)\n",
    "                f_out.write(s+'\\n')\n",
    "        f_out.close()\n",
    "\n",
    "if __name__ == '__main__':\n",
    "    filepath = 'F:/data'\n",
    "    savepath = 'F:/data'\n",
    "    extension = '.txt'\n",
    "\n",
    "    clean(filepath, savepath, extension)"
   ]
  }
 ],
 "metadata": {
  "kernelspec": {
   "display_name": "Python 3",
   "language": "python",
   "name": "python3"
  },
  "language_info": {
   "codemirror_mode": {
    "name": "ipython",
    "version": 3
   },
   "file_extension": ".py",
   "mimetype": "text/x-python",
   "name": "python",
   "nbconvert_exporter": "python",
   "pygments_lexer": "ipython3",
   "version": "3.6.4"
  }
 },
 "nbformat": 4,
 "nbformat_minor": 2
}
