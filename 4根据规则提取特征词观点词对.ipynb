{
 "cells": [
  {
   "cell_type": "markdown",
   "metadata": {},
   "source": [
    "# 提取符合规则的词对"
   ]
  },
  {
   "cell_type": "code",
   "execution_count": 1,
   "metadata": {},
   "outputs": [],
   "source": [
    "import pickle\n",
    "import collections\n",
    "candidateFea = set()\n",
    "candidateFeaOpinion = set()\n",
    "candidate_FO_pair = list()\n",
    "fea_to_opinion = collections.defaultdict(list)\n",
    "opinion_to_fea = collections.defaultdict(list)"
   ]
  },
  {
   "cell_type": "markdown",
   "metadata": {},
   "source": [
    "## 规则"
   ]
  },
  {
   "cell_type": "code",
   "execution_count": 2,
   "metadata": {},
   "outputs": [],
   "source": [
    "#名词动词主谓关系，并列关系\n",
    "rule1 = [('n','v','SBV'),('v','a','COO')]\n",
    "#名词形容词主谓关系\n",
    "rule2 = [['n','a','SBV'],['a','n','SBV']]\n",
    "#动补关系\n",
    "rule3 = [['v','a','CMP'],['a','v','CMP']]\n",
    "#并列关系\n",
    "rule4 = [['a','a','COO'],['i','a','COO'],['a','i','COO']]"
   ]
  },
  {
   "cell_type": "markdown",
   "metadata": {},
   "source": [
    "## 根据规则提取词对"
   ]
  },
  {
   "cell_type": "code",
   "execution_count": 3,
   "metadata": {},
   "outputs": [],
   "source": [
    "def processRules123(line):\n",
    "    words_list = []\n",
    "    pos_relate_list = []\n",
    "    return_pair = []\n",
    "    #规则1\n",
    "    for pair in line:\n",
    "        if pair:\n",
    "            pair = pair[1:-1].split('_')\n",
    "            words_list.append((pair[0],pair[2]))\n",
    "            pos_relate_list.append((pair[1],pair[3],pair[4]))\n",
    "            #print(len(pair))\n",
    "            #print(type(pair))\n",
    "            #print(pair)\n",
    "    #print(words_list)\n",
    "    #print(pos_relate_list)\n",
    "    \n",
    "    for word_pair_pos_pair in zip(words_list, pos_relate_list):\n",
    "        \n",
    "        word_pair = word_pair_pos_pair[0]\n",
    "        pos_pair = word_pair_pos_pair[1]\n",
    "        hit_noun = []\n",
    "        hit_verb = []\n",
    "        if pos_pair == rule1[0]:\n",
    "            #print('yes')\n",
    "            \n",
    "            hit_noun = word_pair[0]\n",
    "            hit_verb = word_pair[1]\n",
    "            return_pair.append((hit_noun, hit_verb))\n",
    "            #print(return_pair)\n",
    "            #print(hit_noun,hit_verb)\n",
    "    #print(return_pair)\n",
    "        elif pos_pair == rule1[1] and hit_noun and hit_verb:\n",
    "            return_pair.append((hit_noun,word_pair[1]))\n",
    "    #规则2        \n",
    "    for pair in line:\n",
    "        if pair:\n",
    "            pair = pair[1:-1].split('_')\n",
    "            rules = [pair[1],pair[3],pair[4]]\n",
    "            for id, r in enumerate(rule2):\n",
    "                if rules == r:\n",
    "                    if id == 0:\n",
    "                        return_pair.append((pair[0],pair[2]))\n",
    "                    else:\n",
    "                        return_pair.append((pair[2],pair[0]))\n",
    "    #规则3                    \n",
    "    for pair in line:\n",
    "        if pair:\n",
    "            pair = pair[1:-1].split('_')\n",
    "            rules = [pair[1],pair[3],pair[4]]\n",
    "            for id, r in enumerate(rule3):\n",
    "                if rules == r:\n",
    "                    if id == 0:\n",
    "                        return_pair.append((pair[0],pair[2]))\n",
    "                    else:\n",
    "                        return_pair.append((pair[2],pair[0]))\n",
    "        #print(return_pair)\n",
    "    #print(set(return_pair))\n",
    "    return list(set(return_pair))\n",
    "    #print(list(set(return_pair)))"
   ]
  },
  {
   "cell_type": "code",
   "execution_count": 4,
   "metadata": {},
   "outputs": [],
   "source": [
    "def processRules4(line):\n",
    "    return_list = []\n",
    "    for pair in line:\n",
    "        if pair:\n",
    "            pair = pair[1:-1].split('_')\n",
    "            rule = [pair[1],pair[3],pair[4]]\n",
    "            if rule in rule4:\n",
    "                return_list.append(pair[0])\n",
    "                return_list.append(pair[2])\n",
    "    return list(set(return_list))"
   ]
  },
  {
   "cell_type": "code",
   "execution_count": 5,
   "metadata": {},
   "outputs": [],
   "source": [
    "def extractWord(filename):\n",
    "    with open(filename,mode='r',encoding='UTF-8') as f:\n",
    "        for line in f:\n",
    "            #print(line)\n",
    "            #print(type(line))\n",
    "            #print(line)\n",
    "            currentPair = list()\n",
    "            line = line.strip(',').replace('\\n','')\n",
    "            line = line.split(',')\n",
    "            line[0] = line[0].replace('\\ufeff','')\n",
    "            #print(line)\n",
    "            #print(line[0])\n",
    "            rules_list = processRules123(line)\n",
    "            #print(rules_list)\n",
    "            #print(n)\n",
    "            if rules_list:\n",
    "                for pair in rules_list:\n",
    "                    candidateFea.add(pair[0])\n",
    "                    candidateFeaOpinion.add(pair[1])\n",
    "                    currentPair.append((pair[0],pair[1]))\n",
    "                    fea_to_opinion[pair[0]].append(pair[1])\n",
    "                    opinion_to_fea[pair[1]].append(pair[0])\n",
    "            #成语等一系列形容词        \n",
    "            opinion_list = processRules4(line)\n",
    "            if opinion_list:\n",
    "                for word in opinion_list:\n",
    "                    candidateFeaOpinion.add(word)\n",
    "                    \n",
    "            candidate_FO_pair.append(currentPair)"
   ]
  },
  {
   "cell_type": "code",
   "execution_count": 6,
   "metadata": {},
   "outputs": [],
   "source": [
    "def savePairToFile(data, file):\n",
    "    data = list(data)\n",
    "    with open(file,'w') as f:\n",
    "        for eachline in data:\n",
    "            for each in eachline:\n",
    "                f.write(each[0])\n",
    "                f.write(':')\n",
    "                f.write(each[1])\n",
    "                f.write(',')\n",
    "            f.write('\\n')\n",
    "                "
   ]
  },
  {
   "cell_type": "code",
   "execution_count": 7,
   "metadata": {},
   "outputs": [],
   "source": [
    "def saveToFile(data, file):\n",
    "    data = list(data)\n",
    "    with open(file, 'w') as f:\n",
    "        for ele in data:\n",
    "            f.write(str(ele))\n",
    "            f.write('\\n')"
   ]
  },
  {
   "cell_type": "code",
   "execution_count": 8,
   "metadata": {},
   "outputs": [],
   "source": [
    "def saveDict(data, file):\n",
    "    with open(file, 'w') as f:\n",
    "        for key, value in data.items():\n",
    "            f.write(key + ':[')\n",
    "            f.write(','.join(value))\n",
    "            f.write(']' + '\\n')"
   ]
  },
  {
   "cell_type": "code",
   "execution_count": 9,
   "metadata": {},
   "outputs": [],
   "source": [
    "if __name__ =='__main__':\n",
    "    filename = 'F:/data2/rules.txt'\n",
    "    #filename = 'F:/data2/testRules.txt'\n",
    "    outfilePath = 'F:/data2/'\n",
    "    extractWord(filename)\n",
    "    savePairToFile(candidate_FO_pair, outfilePath+'candidate_FO_pair.txt')\n",
    "    saveToFile(candidateFea, outfilePath+'candidateFea.txt')\n",
    "    saveToFile(candidateFeaOpinion, outfilePath+'candidateFeaOpinion.txt')\n",
    "    saveDict(fea_to_opinion, outfilePath+'fea_to_opinion.txt')\n",
    "    saveDict(opinion_to_fea, outfilePath+'opinion_to_fea.txt')\n",
    "    with open(outfilePath + 'fea_to_opinion.pkl', mode='wb+') as f:\n",
    "        pickle.dump(fea_to_opinion, f)\n",
    "    with open(outfilePath + 'opinion_to_fea.pkl', mode='wb+') as f:\n",
    "        pickle.dump(opinion_to_fea, f)\n",
    "    "
   ]
  },
  {
   "cell_type": "code",
   "execution_count": null,
   "metadata": {},
   "outputs": [],
   "source": []
  }
 ],
 "metadata": {
  "kernelspec": {
   "display_name": "Python 3",
   "language": "python",
   "name": "python3"
  },
  "language_info": {
   "codemirror_mode": {
    "name": "ipython",
    "version": 3
   },
   "file_extension": ".py",
   "mimetype": "text/x-python",
   "name": "python",
   "nbconvert_exporter": "python",
   "pygments_lexer": "ipython3",
   "version": "3.6.4"
  }
 },
 "nbformat": 4,
 "nbformat_minor": 2
}
