{
 "cells": [
  {
   "cell_type": "code",
   "execution_count": 25,
   "metadata": {},
   "outputs": [],
   "source": [
    "import jieba\n",
    "import jieba.posseg as pseg"
   ]
  },
  {
   "cell_type": "code",
   "execution_count": 26,
   "metadata": {},
   "outputs": [],
   "source": [
    "#分词，返回list\n",
    "def segmentation(sentence):\n",
    "    seg_list = jieba.cut(sentence)\n",
    "    #print(seg_list)\n",
    "    seg_result = []\n",
    "    for w in seg_list:\n",
    "        seg_result.append(w)\n",
    "    return seg_result"
   ]
  },
  {
   "cell_type": "code",
   "execution_count": 27,
   "metadata": {},
   "outputs": [],
   "source": [
    "#分词和词性标注，词和词性组成一个元组\n",
    "def postagger(sentence):\n",
    "    pos_data = pseg.cut(sentence)\n",
    "    pos_list = []\n",
    "    for w in pos_data:\n",
    "        pos_list.append((w.word, w.flag))\n",
    "    #print(pos_list)\n",
    "    return pos_list"
   ]
  },
  {
   "cell_type": "code",
   "execution_count": 28,
   "metadata": {},
   "outputs": [],
   "source": [
    "def cut_sentence(words):\n",
    "    start = 0\n",
    "    i = 0 \n",
    "    token = 'meaningless'\n",
    "    sents = []\n",
    "    punt_list = ',.!?;~，。！？；～… '\n",
    "    for word in words:\n",
    "        if word not in punt_list:\n",
    "            i += 1\n",
    "            token = list(words[start:i+2]).pop()\n",
    "        #处理省略号\n",
    "        elif word in punt_list and token in punt_list:\n",
    "            i += 1\n",
    "            token = list(words[start:i+2]).pop()\n",
    "        else:\n",
    "            sents.append(words[start:i+1])\n",
    "            start = i + 1\n",
    "            i += 1\n",
    "    if start < len(words):\n",
    "        sents.append(words[start:])\n",
    "        return sents"
   ]
  },
  {
   "cell_type": "code",
   "execution_count": 29,
   "metadata": {},
   "outputs": [],
   "source": [
    "#cut_sentence('这东西真好看，也好吃，但是还是有点咸？')"
   ]
  },
  {
   "cell_type": "code",
   "execution_count": 30,
   "metadata": {},
   "outputs": [],
   "source": [
    "def read_lines(filename):\n",
    "    fp = open(filename, mode='r',encoding='UTF-8')\n",
    "    lines = []\n",
    "    for line in fp.readlines():\n",
    "        line = line.strip()\n",
    "        lines.append(line)\n",
    "    fp.close()\n",
    "    del lines[0]\n",
    "    return lines"
   ]
  },
  {
   "cell_type": "code",
   "execution_count": 31,
   "metadata": {},
   "outputs": [],
   "source": [
    "def del_stopwords(seg_sent):\n",
    "    stopwords = read_lines('C:/Users/Administrator/Desktop/motion/\\Sentiment_dict\\emotion_dict\\stop_words.txt')\n",
    "    new_sent = []\n",
    "    for word in seg_sent:\n",
    "        if word in stopwords:\n",
    "            continue\n",
    "        else:\n",
    "            new_sent.append(word)\n",
    "    return new_sent"
   ]
  },
  {
   "cell_type": "code",
   "execution_count": 32,
   "metadata": {},
   "outputs": [],
   "source": [
    "if __name__ == '__main__':\n",
    "    test_sentence1 = '这款手机大小合适'\n",
    "    test_sentence2 = '这款手机大小合适，配置也还可以，很好用，就是屏幕有点小。。。总之，傣妹+是一款值得购买的手机'\n",
    "    test_sentence3 = '这手机的画面挺好，操作也比较流畅。不过拍照真的太烂了！系统也不好。'\n",
    "    \n",
    "    postagger(test_sentence1)"
   ]
  },
  {
   "cell_type": "code",
   "execution_count": 33,
   "metadata": {},
   "outputs": [],
   "source": [
    "#cut_sentence(test_sentence2)"
   ]
  },
  {
   "cell_type": "code",
   "execution_count": null,
   "metadata": {},
   "outputs": [],
   "source": []
  }
 ],
 "metadata": {
  "kernelspec": {
   "display_name": "Python 3",
   "language": "python",
   "name": "python3"
  },
  "language_info": {
   "codemirror_mode": {
    "name": "ipython",
    "version": 3
   },
   "file_extension": ".py",
   "mimetype": "text/x-python",
   "name": "python",
   "nbconvert_exporter": "python",
   "pygments_lexer": "ipython3",
   "version": "3.6.4"
  }
 },
 "nbformat": 4,
 "nbformat_minor": 2
}
