{
 "cells": [
  {
   "cell_type": "markdown",
   "metadata": {},
   "source": [
    "## 去掉命名实体的特征"
   ]
  },
  {
   "cell_type": "code",
   "execution_count": 45,
   "metadata": {},
   "outputs": [],
   "source": [
    "#因为读文件的列表中第一个元素会出现\\ufeff所以要去掉\n",
    "def read_lines(file):\n",
    "    with open(file, mode='r',encoding='UTF-8') as f:\n",
    "        lines = []\n",
    "        for line in f:\n",
    "            line = line.strip().replace('\\n', '')\n",
    "            lines.append(line)\n",
    "    lines[0] = lines[0].replace('\\ufeff', '')\n",
    "    return lines"
   ]
  },
  {
   "cell_type": "code",
   "execution_count": 46,
   "metadata": {},
   "outputs": [],
   "source": [
    "def saveToFile(data, file):\n",
    "    data = list(data)\n",
    "    with open(file, mode='w', encoding='UTF-8') as f:\n",
    "        for ele in data:\n",
    "            f.write(ele)\n",
    "            f.write('\\n')"
   ]
  },
  {
   "cell_type": "code",
   "execution_count": 47,
   "metadata": {},
   "outputs": [],
   "source": [
    "def prunNer(candidate, nerFile, newfilename, save):\n",
    "    ner_list = read_lines(nerFile)\n",
    "    candidate_list = read_lines(candidate)\n",
    "    inter_set = set(candidate_list).intersection(set(ner_list))\n",
    "    saveToFile(inter_set, save)\n",
    "    if inter_set:\n",
    "        print('delete')\n",
    "        candidate_list = list(set(candidate_list) - inter_set)\n",
    "        saveToFile(candidate_list, newfilename)    "
   ]
  },
  {
   "cell_type": "code",
   "execution_count": 48,
   "metadata": {},
   "outputs": [
    {
     "name": "stdout",
     "output_type": "stream",
     "text": [
      "delete\n"
     ]
    }
   ],
   "source": [
    "if __name__ =='__main__':\n",
    "    candidate = 'F:/data2/candidateFea.txt'\n",
    "    nerFile = 'F:/data3/comments_clean_ner.txt'\n",
    "    newfilename = 'F:/data2/new_candidateFea.txt'\n",
    "    save = 'F:/data2/deletedFea.txt'\n",
    "    \n",
    "    prunNer(candidate, nerFile, newfilename, save)"
   ]
  },
  {
   "cell_type": "code",
   "execution_count": null,
   "metadata": {},
   "outputs": [],
   "source": []
  }
 ],
 "metadata": {
  "kernelspec": {
   "display_name": "Python 3",
   "language": "python",
   "name": "python3"
  },
  "language_info": {
   "codemirror_mode": {
    "name": "ipython",
    "version": 3
   },
   "file_extension": ".py",
   "mimetype": "text/x-python",
   "name": "python",
   "nbconvert_exporter": "python",
   "pygments_lexer": "ipython3",
   "version": "3.6.4"
  }
 },
 "nbformat": 4,
 "nbformat_minor": 2
}
